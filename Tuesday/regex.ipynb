{
 "cells": [
  {
   "cell_type": "code",
   "execution_count": null,
   "metadata": {},
   "outputs": [],
   "source": [
    "import re\n",
    "def string_validation() -> bool:\n",
    "    usr_str = input() \n",
    "    match = re.search(r\"\\d\",usr_str)\n",
    "\n",
    "print(r\"\\a\")"
   ]
  }
 ],
 "metadata": {
  "language_info": {
   "name": "python"
  }
 },
 "nbformat": 4,
 "nbformat_minor": 2
}
