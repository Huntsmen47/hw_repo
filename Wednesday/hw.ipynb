{
 "cells": [
  {
   "cell_type": "markdown",
   "metadata": {},
   "source": [
    "# Exercise 1"
   ]
  },
  {
   "cell_type": "code",
   "execution_count": 29,
   "metadata": {},
   "outputs": [
    {
     "name": "stdout",
     "output_type": "stream",
     "text": [
      "0      The Shawshank Redemption\n",
      "1                 The Godfather\n",
      "2               The Dark Knight\n",
      "3        The Godfather: Part II\n",
      "4                  12 Angry Men\n",
      "                 ...           \n",
      "995      Breakfast at Tiffany's\n",
      "996                       Giant\n",
      "997       From Here to Eternity\n",
      "998                    Lifeboat\n",
      "999                The 39 Steps\n",
      "Name: Series_Title, Length: 1000, dtype: object\n"
     ]
    }
   ],
   "source": [
    "import pandas as pd\n",
    "df = pd.read_csv(\"imdb_top_1000.csv\")"
   ]
  },
  {
   "cell_type": "code",
   "execution_count": 25,
   "metadata": {},
   "outputs": [],
   "source": [
    "# Get rid of useless columns\n",
    "del df[\"Poster_Link\"]\n",
    "del df[\"Overview\"]\n",
    "\n"
   ]
  },
  {
   "cell_type": "code",
   "execution_count": 42,
   "metadata": {},
   "outputs": [
    {
     "data": {
      "text/plain": [
       "'Das Cabinet des Dr. Caligari'"
      ]
     },
     "execution_count": 42,
     "metadata": {},
     "output_type": "execute_result"
    }
   ],
   "source": [
    "# Oldest movie\n",
    "old_movie_row = df.loc[df[\"Released_Year\"] == min(df[\"Released_Year\"])]\n",
    "old_movie_row.at[321,\"Series_Title\"]"
   ]
  },
  {
   "cell_type": "code",
   "execution_count": 38,
   "metadata": {},
   "outputs": [
    {
     "name": "stdout",
     "output_type": "stream",
     "text": [
      "966    Apollo 13\n",
      "Name: Series_Title, dtype: object\n"
     ]
    }
   ],
   "source": [
    "# Newest Movie\n",
    "new_movie_row = df.loc[df[\"Released_Year\"] == max(df[\"Released_Year\"])]\n",
    "print(new_movie_row[\"Series_Title\"])"
   ]
  },
  {
   "cell_type": "code",
   "execution_count": null,
   "metadata": {},
   "outputs": [],
   "source": [
    "# Top 10 movies by IMDB rating\n"
   ]
  }
 ],
 "metadata": {
  "kernelspec": {
   "display_name": ".venv",
   "language": "python",
   "name": "python3"
  },
  "language_info": {
   "codemirror_mode": {
    "name": "ipython",
    "version": 3
   },
   "file_extension": ".py",
   "mimetype": "text/x-python",
   "name": "python",
   "nbconvert_exporter": "python",
   "pygments_lexer": "ipython3",
   "version": "3.10.12"
  }
 },
 "nbformat": 4,
 "nbformat_minor": 2
}
