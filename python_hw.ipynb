{
 "cells": [
  {
   "cell_type": "code",
   "execution_count": 35,
   "metadata": {},
   "outputs": [
    {
     "name": "stdout",
     "output_type": "stream",
     "text": [
      "current date: 2024-06-17\n",
      "current time: 03:28PM\n",
      "172\n"
     ]
    }
   ],
   "source": [
    "# Exercise 1\n",
    "\n",
    "from datetime import datetime as datetime\n",
    "date = datetime.now()\n",
    "time = date.strftime(\"%I:%M%p\")\n",
    "fmtd_date = date.strftime(\"%Y-%m-%d\")\n",
    "print(f\"current date: {fmtd_date}\")\n",
    "print(f\"current time: {time}\")\n",
    "day_num = date.strftime(\"%j\")\n",
    "birthday = \"2024-12-06\"\n",
    "bday_datetime = date.strptime(birthday,\"%Y-%m-%d\")\n",
    "bday_num = bday_datetime.strftime(\"%j\")\n",
    "days_left = int(bday_num)-int(day_num)\n",
    "print(days_left)\n"
   ]
  },
  {
   "cell_type": "code",
   "execution_count": 37,
   "metadata": {},
   "outputs": [],
   "source": [
    "# Exercise 2\n",
    "student_grades = {\"Sally\":\"A\",\"Billy\":\"B+\",\"Rudy\":\"C-\"}\n",
    "student_grades[\"Ron\"] = \"B\"\n",
    "sally_classes = {\"classes\":[\"Biology\",\"Chemistry\"]}\n",
    "ron_classes = {\"classes\":[\"Computer Science\",\"US History\"]}\n",
    "rudy_classes = {\"classes\":[\"Art\"]}\n",
    "billy_classes = {\"classes\":[\"Geology\",\"Math\"]}\n",
    "student_classes = student_grades\n",
    "student_classes[\"Sally\"] = sally_classes\n",
    "student_classes[\"Ron\"] = ron_classes\n",
    "student_classes[\"Rudy\"] = rudy_classes\n",
    "student_classes[\"Billy\"] = billy_classes\n",
    "student_names = set()\n",
    "for name in student_classes:\n",
    "    student_names.add(name)\n",
    "\n",
    "\n"
   ]
  },
  {
   "cell_type": "code",
   "execution_count": null,
   "metadata": {},
   "outputs": [],
   "source": [
    "#Exercise 3\n",
    "\n",
    "#1\n",
    "mystr = \"I am happy\"\n",
    "str_list = mystr.split()\n",
    "\n",
    "#2\n",
    "new_str = \"\"\n",
    "for i in range(len(str_list)):\n",
    "    if i != len(str_list)-1:\n",
    "        new_str = new_str+str_list[i] +\"|\"\n",
    "    else:\n",
    "        new_str = new_str+str_list[i]\n"
   ]
  }
 ],
 "metadata": {
  "kernelspec": {
   "display_name": "Python 3",
   "language": "python",
   "name": "python3"
  },
  "language_info": {
   "codemirror_mode": {
    "name": "ipython",
    "version": 3
   },
   "file_extension": ".py",
   "mimetype": "text/x-python",
   "name": "python",
   "nbconvert_exporter": "python",
   "pygments_lexer": "ipython3",
   "version": "3.10.12"
  }
 },
 "nbformat": 4,
 "nbformat_minor": 2
}
