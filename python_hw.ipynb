{
 "cells": [
  {
   "cell_type": "code",
   "execution_count": 35,
   "metadata": {},
   "outputs": [
    {
     "name": "stdout",
     "output_type": "stream",
     "text": [
      "current date: 2024-06-17\n",
      "current time: 03:28PM\n",
      "172\n"
     ]
    }
   ],
   "source": [
    "# Exercise 1\n",
    "\n",
    "from datetime import datetime as datetime\n",
    "date = datetime.now()\n",
    "time = date.strftime(\"%I:%M%p\")\n",
    "fmtd_date = date.strftime(\"%Y-%m-%d\")\n",
    "print(f\"current date: {fmtd_date}\")\n",
    "print(f\"current time: {time}\")\n",
    "day_num = date.strftime(\"%j\")\n",
    "birthday = \"2024-12-06\"\n",
    "bday_datetime = date.strptime(birthday,\"%Y-%m-%d\")\n",
    "bday_num = bday_datetime.strftime(\"%j\")\n",
    "days_left = int(bday_num)-int(day_num)\n",
    "print(days_left)\n"
   ]
  },
  {
   "cell_type": "code",
   "execution_count": 37,
   "metadata": {},
   "outputs": [],
   "source": [
    "# Exercise 2\n",
    "student_grades = {\"Sally\":\"A\",\"Billy\":\"B+\",\"Rudy\":\"C-\"}\n",
    "student_grades[\"Ron\"] = \"B\"\n",
    "sally_classes = {\"classes\":[\"Biology\",\"Chemistry\"]}\n",
    "ron_classes = {\"classes\":[\"Computer Science\",\"US History\"]}\n",
    "rudy_classes = {\"classes\":[\"Art\"]}\n",
    "billy_classes = {\"classes\":[\"Geology\",\"Math\"]}\n",
    "student_classes = student_grades\n",
    "student_classes[\"Sally\"] = sally_classes\n",
    "student_classes[\"Ron\"] = ron_classes\n",
    "student_classes[\"Rudy\"] = rudy_classes\n",
    "student_classes[\"Billy\"] = billy_classes\n",
    "student_names = set()\n",
    "for name in student_classes:\n",
    "    student_names.add(name)\n",
    "\n",
    "\n"
   ]
  },
  {
   "cell_type": "code",
   "execution_count": 41,
   "metadata": {},
   "outputs": [
    {
     "name": "stdout",
     "output_type": "stream",
     "text": [
      "I|am|happy\n",
      "2\n"
     ]
    }
   ],
   "source": [
    "#Exercise 3\n",
    "\n",
    "#1\n",
    "mystr = \"I am happy\"\n",
    "str_list = mystr.split()\n",
    "\n",
    "#2\n",
    "new_str = \"\"\n",
    "for i in range(len(str_list)):\n",
    "    if i != len(str_list)-1:\n",
    "        new_str = new_str+str_list[i] +\"|\"\n",
    "    else:\n",
    "        new_str = new_str+str_list[i]\n",
    "print(new_str)\n",
    "\n",
    "#3\n",
    "print(mystr.count(\"a\"))"
   ]
  },
  {
   "cell_type": "code",
   "execution_count": 46,
   "metadata": {},
   "outputs": [
    {
     "name": "stdout",
     "output_type": "stream",
     "text": [
      "[5, 3, 6, 6, 3, 50]\n",
      "[5, 3, 6, 3, 50]\n"
     ]
    },
    {
     "ename": "TypeError",
     "evalue": "sort() takes no positional arguments",
     "output_type": "error",
     "traceback": [
      "\u001b[0;31m---------------------------------------------------------------------------\u001b[0m",
      "\u001b[0;31mTypeError\u001b[0m                                 Traceback (most recent call last)",
      "Cell \u001b[0;32mIn[46], line 15\u001b[0m\n\u001b[1;32m     12\u001b[0m \u001b[38;5;28mprint\u001b[39m(list_of_ints)\n\u001b[1;32m     14\u001b[0m \u001b[38;5;66;03m#4\u001b[39;00m\n\u001b[0;32m---> 15\u001b[0m \u001b[43mlist_of_ints\u001b[49m\u001b[38;5;241;43m.\u001b[39;49m\u001b[43msort\u001b[49m\u001b[43m(\u001b[49m\u001b[43mlist_of_ints\u001b[49m\u001b[43m)\u001b[49m\n\u001b[1;32m     16\u001b[0m \u001b[38;5;28mprint\u001b[39m(list_of_ints)\n",
      "\u001b[0;31mTypeError\u001b[0m: sort() takes no positional arguments"
     ]
    }
   ],
   "source": [
    "#Exercise 4\n",
    "\n",
    "#1\n",
    "list_of_ints = [5,3,6,6,3]\n",
    "\n",
    "#2\n",
    "list_of_ints.append(50)\n",
    "print(list_of_ints)\n",
    "\n",
    "#3\n",
    "list_of_ints.remove(6)\n",
    "print(list_of_ints)\n",
    "\n",
    "#4\n",
    "list_of_ints.sort()\n",
    "print(list_of_ints)"
   ]
  }
 ],
 "metadata": {
  "kernelspec": {
   "display_name": "Python 3",
   "language": "python",
   "name": "python3"
  },
  "language_info": {
   "codemirror_mode": {
    "name": "ipython",
    "version": 3
   },
   "file_extension": ".py",
   "mimetype": "text/x-python",
   "name": "python",
   "nbconvert_exporter": "python",
   "pygments_lexer": "ipython3",
   "version": "3.10.12"
  }
 },
 "nbformat": 4,
 "nbformat_minor": 2
}
