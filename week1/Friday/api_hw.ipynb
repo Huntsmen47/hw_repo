{
 "cells": [
  {
   "cell_type": "code",
   "execution_count": 23,
   "metadata": {},
   "outputs": [
    {
     "name": "stdout",
     "output_type": "stream",
     "text": [
      "{'request': {'type': 'City', 'query': 'New Delhi, India', 'language': 'en', 'unit': 'm'}, 'location': {'name': 'New Delhi', 'country': 'India', 'region': 'Delhi', 'lat': '28.600', 'lon': '77.200', 'timezone_id': 'Asia/Kolkata', 'localtime': '2024-06-23 13:37', 'localtime_epoch': 1719149820, 'utc_offset': '5.50'}, 'current': {'observation_time': '08:07 AM', 'temperature': 38, 'weather_code': 143, 'weather_icons': ['https://cdn.worldweatheronline.com/images/wsymbols01_png_64/wsymbol_0006_mist.png'], 'weather_descriptions': ['Haze'], 'wind_speed': 11, 'wind_degree': 110, 'wind_dir': 'ESE', 'pressure': 1001, 'precip': 0, 'humidity': 42, 'cloudcover': 50, 'feelslike': 38, 'uv_index': 10, 'visibility': 5, 'is_day': 'yes'}}\n"
     ]
    }
   ],
   "source": [
    "# Connect to a free API using API key\n",
    "\n",
    "from dotenv import load_dotenv\n",
    "import requests\n",
    "import os\n",
    "\n",
    "load_dotenv()\n",
    "\n",
    "api_key = os.environ['weather_api_key']\n",
    "base_url = f'http://api.weatherstack.com/current?access_key={api_key}'\n",
    "querystring = {\"query\":\"New Delhi\"}\n",
    "\n",
    "response = requests.get(base_url, params=querystring)\n",
    "\n",
    "print(response.json())\n"
   ]
  },
  {
   "cell_type": "code",
   "execution_count": 24,
   "metadata": {},
   "outputs": [
    {
     "name": "stdout",
     "output_type": "stream",
     "text": [
      "{'pagination': {'total': 125906, 'limit': 12, 'offset': 0, 'total_pages': 10493, 'current_page': 1, 'next_url': 'https://api.artic.edu/api/v1/artworks?page=2&fields=id%2Ctitle%2Cartist_display%2Cdate_display%2Cmain_reference_number'}, 'data': [{'id': 13527, 'title': 'The Bath', 'main_reference_number': '1932.1287', 'date_display': '1890–91', 'artist_display': 'Mary Cassatt (American, 1844-1926)\\nprinted with Leroy (French, active 1876-1900)'}, {'id': 14598, 'title': 'The Beach at Sainte-Adresse', 'main_reference_number': '1933.439', 'date_display': '1867', 'artist_display': 'Claude Monet\\nFrench, 1840-1926'}, {'id': 13793, 'title': 'Three Children', 'main_reference_number': '1924.930', 'date_display': 'n.d.', 'artist_display': 'Constantin Brâncusi\\nFrench, born Romania, 1876-1957'}, {'id': 17236, 'title': 'Tingletangle', 'main_reference_number': '1963.285', 'date_display': '1895', 'artist_display': 'Edvard Munch\\nNorwegian, 1863-1944'}, {'id': 23700, 'title': 'The Praying Jew', 'main_reference_number': '1937.188', 'date_display': '1923 (one of two versions after a 1914 composition)', 'artist_display': 'Marc Chagall\\nBorn Vitebsk (formerly Russian Empire, now Belarus), 1887; died Saint-Paul, France, 1985'}, {'id': 21977, 'title': 'Melon-Shaped Ewer with Stylized Flowers', 'main_reference_number': '1964.972', 'date_display': 'Goryeo dynasty (918–1392), 12th century', 'artist_display': 'Korea'}, {'id': 19204, 'title': 'The Day After', 'main_reference_number': '1963.1143', 'date_display': '1894', 'artist_display': 'Edvard Munch (Norwegian, 1863-1944)\\nprinted by Sabo, Angerer, Felsing'}, {'id': 25312, 'title': \"Vessel Depicting K'awiil (God K) and Itzamna Exchanging Gifts\", 'main_reference_number': '1966.161', 'date_display': '700–800 CE', 'artist_display': 'Ceramist unknown (Late Classic Maya)\\nGuatemala'}, {'id': 26650, 'title': 'On a Balcony', 'main_reference_number': '1938.18', 'date_display': '1878–79', 'artist_display': 'Mary Cassatt (American, 1844–1926)'}, {'id': 27404, 'title': 'Waiting', 'main_reference_number': '1967.256', 'date_display': '1879–80', 'artist_display': 'Mary Cassatt\\nAmerican, 1844-1926'}, {'id': 26693, 'title': 'Under the Lamp', 'main_reference_number': '1938.33', 'date_display': 'c. 1882', 'artist_display': 'Mary Cassatt\\nAmerican, 1844-1926'}, {'id': 32349, 'title': 'City', 'main_reference_number': '1969.722', 'date_display': '1968', 'artist_display': 'Ed Ruscha\\nAmerican, born 1937'}], 'info': {'license_text': 'The `description` field in this response is licensed under a Creative Commons Attribution 4.0 Generic License (CC-By) and the Terms and Conditions of artic.edu. All other data in this response is licensed under a Creative Commons Zero (CC0) 1.0 designation and the Terms and Conditions of artic.edu.', 'license_links': ['https://creativecommons.org/publicdomain/zero/1.0/', 'https://www.artic.edu/terms'], 'version': '1.10'}, 'config': {'iiif_url': 'https://www.artic.edu/iiif/2', 'website_url': 'http://www.artic.edu'}}\n"
     ]
    }
   ],
   "source": [
    "# No Auth API\n",
    "\n",
    "url = 'https://api.artic.edu/api/v1/artworks?fields=id,title,artist_display,date_display,main_reference_number' \n",
    "response = requests.get(url)\n",
    "print(response.json())\n"
   ]
  },
  {
   "cell_type": "code",
   "execution_count": 30,
   "metadata": {},
   "outputs": [
    {
     "name": "stdout",
     "output_type": "stream",
     "text": [
      "b'{\\n  \"generated_at\": \"2024-06-23 08:11:59.840713\",\\n  \"icon\": {\\n    \"attribution\": \"Trash by AIGA from Noun Project\",\\n    \"collections\": [\\n      {\\n        \"creator\": {\\n          \"name\": \"AIGA\",\\n          \"permalink\": \"/aiga-icons\",\\n          \"username\": \"aiga-icons\"\\n        },\\n        \"id\": \"3\",\\n        \"name\": \"Symbol Signs\",\\n        \"permalink\": \"/aiga-icons/collection/symbol-signs\"\\n      }\\n    ],\\n    \"creator\": {\\n      \"name\": \"AIGA\",\\n      \"permalink\": \"/aiga-icons\",\\n      \"username\": \"aiga-icons\"\\n    },\\n    \"icon_url\": \"https://static.thenounproject.com/svg_clean/1.svg?Expires=1719133919&Signature=fv6MtWOl~vNMgNtS5YrEgeVETMvqWAwYdjIV-R~7ELCXghn3ffzzzqkNI1Zw2dL3MLCRjXN6W0CSW8zRvBgBkJP~tkVeg7Diejllrp7Wi4ZxswOn5iqSzoI4GfHhCygSuN4OWzz5o9oSJyPSNcmCNbVqPk-McXlt3H729ulSijo_&Key-Pair-Id=APKAI5ZVHAXN65CHVU2Q\",\\n    \"id\": \"1\",\\n    \"license_description\": \"public-domain\",\\n    \"permalink\": \"/term/trash/1\",\\n    \"tags\": [\\n      \"trash\",\\n      \"garbage\",\\n      \"trash-can\",\\n      \"throw-away\"\\n    ],\\n    \"term\": \"Trash\",\\n    \"thumbnail_url\": \"https://static.thenounproject.com/png/1-200.png\"\\n  },\\n  \"total\": 1,\\n  \"usage_limits\": {\\n    \"monthly\": {\\n      \"limit\": 5000,\\n      \"usage\": 2\\n    }\\n  }\\n}'\n"
     ]
    }
   ],
   "source": [
    "# Oauth\n",
    "from requests_oauthlib import OAuth1\n",
    "\n",
    "noun_project_key = os.environ['noun_project_api_key']\n",
    "secret_key = os.environ['noun_project_secret_key']\n",
    "auth = OAuth1(noun_project_key, secret_key)\n",
    "endpoint = \"http://api.thenounproject.com/v2/icon/1\"\n",
    "\n",
    "response = requests.get(endpoint, auth=auth)\n",
    "print(response.content)\n"
   ]
  }
 ],
 "metadata": {
  "kernelspec": {
   "display_name": ".venv",
   "language": "python",
   "name": "python3"
  },
  "language_info": {
   "codemirror_mode": {
    "name": "ipython",
    "version": 3
   },
   "file_extension": ".py",
   "mimetype": "text/x-python",
   "name": "python",
   "nbconvert_exporter": "python",
   "pygments_lexer": "ipython3",
   "version": "3.10.12"
  }
 },
 "nbformat": 4,
 "nbformat_minor": 2
}
