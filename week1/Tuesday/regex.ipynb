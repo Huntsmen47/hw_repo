{
 "cells": [
  {
   "cell_type": "code",
   "execution_count": 25,
   "metadata": {},
   "outputs": [
    {
     "name": "stdout",
     "output_type": "stream",
     "text": [
      "True\n",
      "True\n",
      "False\n",
      "False\n",
      "True\n"
     ]
    }
   ],
   "source": [
    "# Exercise 1\n",
    "\n",
    "import re\n",
    "def string_validator():\n",
    "    usr_input = input()\n",
    "    print(re.search(r\"[\\w\\d]\",usr_input) != None)\n",
    "    print(re.search(r\"[a-zA-Z]\",usr_input) != None)\n",
    "    print(re.search(r\"[\\d]\",usr_input)!= None)\n",
    "    print(re.search(r\"[a-z]\",usr_input)!= None)\n",
    "    print(re.search(r\"[A-Z]\",usr_input)!= None)\n",
    "\n",
    "string_validator()"
   ]
  },
  {
   "cell_type": "markdown",
   "metadata": {},
   "source": [
    "# Exercise 2\n",
    "- ^\\w+\n",
    "- \\s\\d\n",
    "- \\w+\\W$\n",
    "- 123"
   ]
  },
  {
   "cell_type": "code",
   "execution_count": null,
   "metadata": {},
   "outputs": [],
   "source": [
    "# Exercise 3\n",
    "import re\n",
    "\n",
    "file_path = \"Pride_and_Prejudice.txt\"\n",
    "\n",
    "f = open(file_path,'r')\n",
    "whole_book = f.read()\n",
    "match = re.findall(r\"\\w+\",whole_book)\n",
    "\n",
    "print(len(match))\n",
    "f.close()\n",
    "\n",
    "\n",
    "# 126245"
   ]
  },
  {
   "cell_type": "code",
   "execution_count": 29,
   "metadata": {},
   "outputs": [
    {
     "name": "stdout",
     "output_type": "stream",
     "text": [
      "['e', 'o']\n",
      "[]\n",
      "['i']\n"
     ]
    },
    {
     "data": {
      "text/plain": [
       "5"
      ]
     },
     "execution_count": 29,
     "metadata": {},
     "output_type": "execute_result"
    }
   ],
   "source": [
    "# Exercise 4\n",
    "import re\n",
    "def calc_score(*words):\n",
    "    score = 0\n",
    "    for word in words:\n",
    "        matches = re.findall(r\"[aeiouy]\",word)\n",
    "        print(matches)\n",
    "        if len(matches)%2 == 0:\n",
    "            score += 2\n",
    "        else:\n",
    "            score += 1\n",
    "    return score\n",
    "\n",
    "        \n",
    "calc_score(\"hello\",\"Hm\",\"His\")"
   ]
  }
 ],
 "metadata": {
  "kernelspec": {
   "display_name": "Python 3",
   "language": "python",
   "name": "python3"
  },
  "language_info": {
   "codemirror_mode": {
    "name": "ipython",
    "version": 3
   },
   "file_extension": ".py",
   "mimetype": "text/x-python",
   "name": "python",
   "nbconvert_exporter": "python",
   "pygments_lexer": "ipython3",
   "version": "3.10.12"
  }
 },
 "nbformat": 4,
 "nbformat_minor": 2
}
